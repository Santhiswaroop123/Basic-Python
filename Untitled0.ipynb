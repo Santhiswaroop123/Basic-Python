{
  "nbformat": 4,
  "nbformat_minor": 0,
  "metadata": {
    "colab": {
      "provenance": [],
      "include_colab_link": true
    },
    "kernelspec": {
      "name": "python3",
      "display_name": "Python 3"
    },
    "language_info": {
      "name": "python"
    }
  },
  "cells": [
    {
      "cell_type": "markdown",
      "metadata": {
        "id": "view-in-github",
        "colab_type": "text"
      },
      "source": [
        "<a href=\"https://colab.research.google.com/github/Santhiswaroop123/Basic-Python/blob/main/Untitled0.ipynb\" target=\"_parent\"><img src=\"https://colab.research.google.com/assets/colab-badge.svg\" alt=\"Open In Colab\"/></a>"
      ]
    },
    {
      "cell_type": "markdown",
      "source": [],
      "metadata": {
        "id": "CDSSOHxT9inl"
      }
    },
    {
      "cell_type": "code",
      "source": [
        "print(\"hi\")"
      ],
      "metadata": {
        "colab": {
          "base_uri": "https://localhost:8080/"
        },
        "id": "vBlOmblt_lDe",
        "outputId": "eb4ba9d2-e031-48dc-a7d5-dbab82706699"
      },
      "execution_count": null,
      "outputs": [
        {
          "output_type": "stream",
          "name": "stdout",
          "text": [
            "hi\n"
          ]
        }
      ]
    },
    {
      "cell_type": "code",
      "source": [
        "#week\n",
        "week=int(input(\"enter week\"))\n",
        "if week==1:\n",
        "  print(\"day is sunday\")\n",
        "elif week==2:\n",
        "  print(\"day is monday\")\n",
        "elif week==3:\n",
        "  print(\"day is tuesday\")\n",
        "elif week==4:\n",
        "  print(\"day is wednesday\")\n",
        "elif week==5:\n",
        "  print(\"day is thursday\")\n",
        "elif week==6:\n",
        "  print(\"day is friday\")\n",
        "elif week==7:\n",
        "  print(\"day is saturday\")\n",
        "else:\n",
        "  print(\"invalid day\")"
      ],
      "metadata": {
        "colab": {
          "base_uri": "https://localhost:8080/"
        },
        "id": "2tAG3Oom_npx",
        "outputId": "cbbfda3d-b79e-447c-da64-cc75d5797149"
      },
      "execution_count": null,
      "outputs": [
        {
          "output_type": "stream",
          "name": "stdout",
          "text": [
            "enter week7\n",
            "day is saturday\n"
          ]
        }
      ]
    },
    {
      "cell_type": "code",
      "source": [
        "#age of a person\n",
        "age=int(input(\"enter age\"))\n",
        "if age<=13:\n",
        "  print(\"child\")\n",
        "elif age>13 and age<18:\n",
        "  print(\"teenage\")\n",
        "else:\n",
        "  print(\"adult\")"
      ],
      "metadata": {
        "colab": {
          "base_uri": "https://localhost:8080/"
        },
        "id": "ILuAQDq4Ayty",
        "outputId": "655cd479-8bf7-40e7-e34e-6e1ab7e8172e"
      },
      "execution_count": null,
      "outputs": [
        {
          "output_type": "stream",
          "name": "stdout",
          "text": [
            "enter age34\n",
            "adult\n"
          ]
        }
      ]
    },
    {
      "cell_type": "code",
      "source": [
        "#simple calculator\n",
        "a=int(input(\"enter a\"))\n",
        "b=int(input(\"enter b\"))\n",
        "ch=int(input(\"enter ch\"))\n",
        "if ch==1:\n",
        "  sum=a+b\n",
        "  print(\"the sum is\",sum)\n",
        "elif ch==2:\n",
        "  diff=a-b\n",
        "  print(\"the diff is\",diff)\n",
        "elif ch==3:\n",
        "  pro=a*b\n",
        "  print(\"the product is\",pro)\n",
        "elif ch==4:\n",
        "  div=a/b\n",
        "  print(\"the quotient is\",div)\n",
        "elif ch==5:\n",
        "  rem=a%b\n",
        "  print(\"the rem is\",rem)\n",
        "else:\n",
        "  print(\"invalid choice\")"
      ],
      "metadata": {
        "colab": {
          "base_uri": "https://localhost:8080/"
        },
        "id": "fnPLISODCKTv",
        "outputId": "847e97e7-b225-450e-f43f-3e5ae415c49d"
      },
      "execution_count": null,
      "outputs": [
        {
          "output_type": "stream",
          "name": "stdout",
          "text": [
            "enter a3\n",
            "enter b4\n",
            "enter ch4\n",
            "the quotient is 0.75\n"
          ]
        }
      ]
    },
    {
      "cell_type": "code",
      "source": [
        "#to find a day of month\n",
        "month=int(input(\"enter month:\"))\n",
        "if month in (1,3,5,7,8,10,12):\n",
        "  print(\"31 days\")\n",
        "elif month in (4,6,9,11):\n",
        "  print(\"30 days\")\n",
        "elif month==2:\n",
        "  print(\"28 or 29 days\")\n",
        "else:\n",
        "  print(\"invalid days\")"
      ],
      "metadata": {
        "colab": {
          "base_uri": "https://localhost:8080/"
        },
        "id": "tNzm54z2DsSp",
        "outputId": "0d1c3884-b29c-4a70-92fa-a547df175bab"
      },
      "execution_count": null,
      "outputs": [
        {
          "output_type": "stream",
          "name": "stdout",
          "text": [
            "enter month:4\n",
            "30 days\n"
          ]
        }
      ]
    },
    {
      "cell_type": "code",
      "source": [
        "#temperatrure\n",
        "temp=int(input(\"enter temperature\"))\n",
        "if temp==37:\n",
        "  print(\"person is normal\")\n",
        "elif temp>37:\n",
        "  print(\"person has fever\")\n",
        "else:\n",
        "  print(\"person has cold\")"
      ],
      "metadata": {
        "colab": {
          "base_uri": "https://localhost:8080/"
        },
        "id": "BfuXN3JAE0Y6",
        "outputId": "fd402402-fd3e-4a79-83ae-fc28314af017"
      },
      "execution_count": null,
      "outputs": [
        {
          "output_type": "stream",
          "name": "stdout",
          "text": [
            "enter temperature56\n",
            "person has fever\n"
          ]
        }
      ]
    },
    {
      "cell_type": "code",
      "source": [
        "#sum of cubes\n",
        "m=int(input(\"enter m\"))\n",
        "n=int(input(\"enter n\"))\n",
        "if m>n:\n",
        "  print(0)\n",
        "else:\n",
        "  s=0\n",
        "  for i in range(m,n+1):\n",
        "    s+=i**3\n",
        "  print(s)"
      ],
      "metadata": {
        "colab": {
          "base_uri": "https://localhost:8080/"
        },
        "id": "jJPkcg7MF4bd",
        "outputId": "5df42132-d880-40ad-82ac-d34a71e0d0f3"
      },
      "execution_count": null,
      "outputs": [
        {
          "output_type": "stream",
          "name": "stdout",
          "text": [
            "enter m2\n",
            "enter n6\n",
            "440\n"
          ]
        }
      ]
    },
    {
      "cell_type": "code",
      "source": [
        "#user and password\n",
        "user=\"santhi\"\n",
        "pw=\"222\"\n",
        "u=input(\"enter username\")\n",
        "if u==user:\n",
        "  p=input(\"enter the password\")\n",
        "  if p==pw:\n",
        "    print(\"welcome\")\n",
        "  else:\n",
        "    print(\"enter valid password\")\n",
        "else:\n",
        "  print(\"inncorrect username\")"
      ],
      "metadata": {
        "id": "nzQT2A4nJVR4",
        "outputId": "7a006e44-46cc-43f9-fac8-11ac3cb9747f",
        "colab": {
          "base_uri": "https://localhost:8080/"
        }
      },
      "execution_count": null,
      "outputs": [
        {
          "output_type": "stream",
          "name": "stdout",
          "text": [
            "enter usernamesanthi\n",
            "enter the password222\n",
            "welcome\n"
          ]
        }
      ]
    },
    {
      "cell_type": "code",
      "source": [
        "print(\"hi\")"
      ],
      "metadata": {
        "id": "MM8bjZyJCc2E",
        "colab": {
          "base_uri": "https://localhost:8080/"
        },
        "outputId": "2e696bd2-a035-46eb-b69f-20383ff8aa3e"
      },
      "execution_count": 1,
      "outputs": [
        {
          "output_type": "stream",
          "name": "stdout",
          "text": [
            "hi\n"
          ]
        }
      ]
    },
    {
      "cell_type": "code",
      "source": [
        "#Linear search\n",
        "def linear_search(arr,target):\n",
        "  for i in range(len(arr)):\n",
        "    if arr[i]==target:\n",
        "      return i\n",
        "  return -1\n",
        "arr=[10,20,30,40,50]\n",
        "target=int(input(\"ENTER TARGET VALUE:\"))\n",
        "result=linear_search(arr,target)\n",
        "if result!=-1:\n",
        "  print(\"Element found at index\", result)\n",
        "else:\n",
        "  print(\"Element not found\")"
      ],
      "metadata": {
        "colab": {
          "base_uri": "https://localhost:8080/"
        },
        "id": "7Kz86S94Me4E",
        "outputId": "3febf63b-3963-480d-ac16-bbb075fb4772"
      },
      "execution_count": 7,
      "outputs": [
        {
          "output_type": "stream",
          "name": "stdout",
          "text": [
            "ENTER TARGET VALUE:30\n",
            "Element found at index 2\n"
          ]
        }
      ]
    },
    {
      "cell_type": "code",
      "source": [
        "#Binary search\n",
        "def binary_search(arr,search):\n",
        "  low=0\n",
        "  high=len(arr)-1\n",
        "  while low<=high:\n",
        "    mid=(low+high)//2\n",
        "    if arr[mid]==target:\n",
        "      return mid\n",
        "    elif arr[mid]<target:\n",
        "      low=mid+1\n",
        "    else:\n",
        "      high=mid-1\n",
        "  return -1\n",
        "arr=[10,20,30,40,50]\n",
        "target=int(input(\"ENTER TARGET VALUE:\"))\n",
        "result=binary_search(arr,target)\n",
        "if result!=-1:\n",
        "  print(\"Element found\",result)\n",
        "else:\n",
        "  print(\"Element not found\")"
      ],
      "metadata": {
        "colab": {
          "base_uri": "https://localhost:8080/"
        },
        "id": "IkRA02GlPL8D",
        "outputId": "bc4323c2-b72e-44c9-db82-7161c6453384"
      },
      "execution_count": 8,
      "outputs": [
        {
          "output_type": "stream",
          "name": "stdout",
          "text": [
            "ENTER TARGET VALUE:30\n",
            "Element found 2\n"
          ]
        }
      ]
    },
    {
      "cell_type": "code",
      "source": [
        "def binary_search(arr, target):\n",
        "    left, right = 0, len(arr) - 1\n",
        "    while left <= right:\n",
        "        mid = (left + right) // 2\n",
        "        if arr[mid] == target:\n",
        "            return mid\n",
        "        elif arr[mid] < target:\n",
        "            left = mid + 1\n",
        "        else:\n",
        "            right = mid - 1\n",
        "    return -1\n",
        "arr = [1, 3, 5, 7, 9, 11]\n",
        "target = int(input(\"Enter target value:\"))\n",
        "result = binary_search(arr, target)\n",
        "if result != -1:\n",
        "    print(f\"Target {target} found at index {result}\")\n",
        "else:\n",
        "    print(\"Target not found\")\n"
      ],
      "metadata": {
        "id": "H2gZLQ6WPkjs",
        "outputId": "94b1dfb3-2265-486a-f2f1-98d58fe1859c",
        "colab": {
          "base_uri": "https://localhost:8080/"
        }
      },
      "execution_count": 10,
      "outputs": [
        {
          "output_type": "stream",
          "name": "stdout",
          "text": [
            "Enter target value:4\n",
            "Target not found\n"
          ]
        }
      ]
    }
  ]
}